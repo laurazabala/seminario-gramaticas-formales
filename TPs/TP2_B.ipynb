{
 "cells": [
  {
   "cell_type": "code",
   "execution_count": 1,
   "id": "36d285ba",
   "metadata": {},
   "outputs": [],
   "source": [
    "import nltk\n",
    "import re"
   ]
  },
  {
   "cell_type": "code",
   "execution_count": 2,
   "id": "b2c8416b",
   "metadata": {},
   "outputs": [],
   "source": [
    "# Recursive Descent Parser\n",
    "\n",
    "def rd_parser(oracion, gramatica):\n",
    "    oracion = oracion.lower() \n",
    "    \n",
    "    if oracion.endswith('.'):\n",
    "        oracion = re.sub('\\.',' ',oracion) \n",
    "    else: \n",
    "        oracion = oracion \n",
    "    lista_palabras = oracion.split() \n",
    "    print(\"- Esta es la lista de palabras resultante: \", lista_palabras) \n",
    "      \n",
    "    gramatica = nltk.data.load(gramatica) \n",
    "    rd_parser = nltk.RecursiveDescentParser(gramatica) \n",
    "    for arbol in rd_parser.parse(lista_palabras): \n",
    "        print(\"- Este es el árbol resultante: \", arbol.draw()) "
   ]
  },
  {
   "cell_type": "code",
   "execution_count": 3,
   "id": "2702eadf",
   "metadata": {},
   "outputs": [
    {
     "name": "stdout",
     "output_type": "stream",
     "text": [
      "Escribí una oración:\n",
      "Ellos patean y dan piñas virtualmente\n",
      "- Esta es la lista de palabras resultante:  ['ellos', 'patean', 'y', 'dan', 'piñas', 'virtualmente']\n",
      "- Este es el árbol resultante:  None\n",
      "- Este es el árbol resultante:  None\n"
     ]
    }
   ],
   "source": [
    "print('Escribí una oración:')    \n",
    "oracion1 = input() \n",
    "gramatica = 'gramatica.cfg'\n",
    "rd_parser(oracion1, gramatica)  "
   ]
  },
  {
   "cell_type": "code",
   "execution_count": null,
   "id": "fae55fa3",
   "metadata": {},
   "outputs": [],
   "source": []
  }
 ],
 "metadata": {
  "kernelspec": {
   "display_name": "Python 3 (ipykernel)",
   "language": "python",
   "name": "python3"
  },
  "language_info": {
   "codemirror_mode": {
    "name": "ipython",
    "version": 3
   },
   "file_extension": ".py",
   "mimetype": "text/x-python",
   "name": "python",
   "nbconvert_exporter": "python",
   "pygments_lexer": "ipython3",
   "version": "3.9.12"
  }
 },
 "nbformat": 4,
 "nbformat_minor": 5
}
